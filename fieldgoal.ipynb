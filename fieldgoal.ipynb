{
 "cells": [
  {
   "cell_type": "code",
   "execution_count": 1,
   "metadata": {},
   "outputs": [],
   "source": [
    "# Import necessary libraries\n",
    "import pandas as pd\n",
    "import numpy as np\n",
    "import nfl_data_py as nfl\n",
    "from sklearn.ensemble import RandomForestClassifier\n",
    "from sklearn.metrics import classification_report\n",
    "import matplotlib.pyplot as plt\n",
    "import seaborn as sns\n",
    "from sklearn.inspection import permutation_importance\n",
    "import plotly"
   ]
  },
  {
   "cell_type": "code",
   "execution_count": 6,
   "metadata": {},
   "outputs": [
    {
     "name": "stdout",
     "output_type": "stream",
     "text": [
      "2023 done.\n",
      "2024 done.\n",
      "Downcasting floats.\n"
     ]
    }
   ],
   "source": [
    "# Load play-by-play data\n",
    "pbp = nfl.import_pbp_data([2023,2024], include_participation=False)"
   ]
  },
  {
   "cell_type": "code",
   "execution_count": 7,
   "metadata": {},
   "outputs": [
    {
     "data": {
      "text/html": [
       "<div>\n",
       "<style scoped>\n",
       "    .dataframe tbody tr th:only-of-type {\n",
       "        vertical-align: middle;\n",
       "    }\n",
       "\n",
       "    .dataframe tbody tr th {\n",
       "        vertical-align: top;\n",
       "    }\n",
       "\n",
       "    .dataframe thead th {\n",
       "        text-align: right;\n",
       "    }\n",
       "</style>\n",
       "<table border=\"1\" class=\"dataframe\">\n",
       "  <thead>\n",
       "    <tr style=\"text-align: right;\">\n",
       "      <th></th>\n",
       "      <th>play_id</th>\n",
       "      <th>game_id</th>\n",
       "      <th>old_game_id</th>\n",
       "      <th>home_team</th>\n",
       "      <th>away_team</th>\n",
       "      <th>season_type</th>\n",
       "      <th>week</th>\n",
       "      <th>posteam</th>\n",
       "      <th>posteam_type</th>\n",
       "      <th>defteam</th>\n",
       "      <th>...</th>\n",
       "      <th>out_of_bounds</th>\n",
       "      <th>home_opening_kickoff</th>\n",
       "      <th>qb_epa</th>\n",
       "      <th>xyac_epa</th>\n",
       "      <th>xyac_mean_yardage</th>\n",
       "      <th>xyac_median_yardage</th>\n",
       "      <th>xyac_success</th>\n",
       "      <th>xyac_fd</th>\n",
       "      <th>xpass</th>\n",
       "      <th>pass_oe</th>\n",
       "    </tr>\n",
       "  </thead>\n",
       "  <tbody>\n",
       "    <tr>\n",
       "      <th>0</th>\n",
       "      <td>1.0</td>\n",
       "      <td>2023_01_ARI_WAS</td>\n",
       "      <td>2023091007</td>\n",
       "      <td>WAS</td>\n",
       "      <td>ARI</td>\n",
       "      <td>REG</td>\n",
       "      <td>1</td>\n",
       "      <td>None</td>\n",
       "      <td>None</td>\n",
       "      <td>None</td>\n",
       "      <td>...</td>\n",
       "      <td>0.0</td>\n",
       "      <td>1.0</td>\n",
       "      <td>0.000000</td>\n",
       "      <td>NaN</td>\n",
       "      <td>NaN</td>\n",
       "      <td>NaN</td>\n",
       "      <td>NaN</td>\n",
       "      <td>NaN</td>\n",
       "      <td>NaN</td>\n",
       "      <td>NaN</td>\n",
       "    </tr>\n",
       "    <tr>\n",
       "      <th>1</th>\n",
       "      <td>39.0</td>\n",
       "      <td>2023_01_ARI_WAS</td>\n",
       "      <td>2023091007</td>\n",
       "      <td>WAS</td>\n",
       "      <td>ARI</td>\n",
       "      <td>REG</td>\n",
       "      <td>1</td>\n",
       "      <td>WAS</td>\n",
       "      <td>home</td>\n",
       "      <td>ARI</td>\n",
       "      <td>...</td>\n",
       "      <td>0.0</td>\n",
       "      <td>1.0</td>\n",
       "      <td>0.000000</td>\n",
       "      <td>NaN</td>\n",
       "      <td>NaN</td>\n",
       "      <td>NaN</td>\n",
       "      <td>NaN</td>\n",
       "      <td>NaN</td>\n",
       "      <td>NaN</td>\n",
       "      <td>NaN</td>\n",
       "    </tr>\n",
       "    <tr>\n",
       "      <th>2</th>\n",
       "      <td>55.0</td>\n",
       "      <td>2023_01_ARI_WAS</td>\n",
       "      <td>2023091007</td>\n",
       "      <td>WAS</td>\n",
       "      <td>ARI</td>\n",
       "      <td>REG</td>\n",
       "      <td>1</td>\n",
       "      <td>WAS</td>\n",
       "      <td>home</td>\n",
       "      <td>ARI</td>\n",
       "      <td>...</td>\n",
       "      <td>0.0</td>\n",
       "      <td>1.0</td>\n",
       "      <td>-0.336103</td>\n",
       "      <td>NaN</td>\n",
       "      <td>NaN</td>\n",
       "      <td>NaN</td>\n",
       "      <td>NaN</td>\n",
       "      <td>NaN</td>\n",
       "      <td>0.515058</td>\n",
       "      <td>-51.505844</td>\n",
       "    </tr>\n",
       "    <tr>\n",
       "      <th>3</th>\n",
       "      <td>77.0</td>\n",
       "      <td>2023_01_ARI_WAS</td>\n",
       "      <td>2023091007</td>\n",
       "      <td>WAS</td>\n",
       "      <td>ARI</td>\n",
       "      <td>REG</td>\n",
       "      <td>1</td>\n",
       "      <td>WAS</td>\n",
       "      <td>home</td>\n",
       "      <td>ARI</td>\n",
       "      <td>...</td>\n",
       "      <td>0.0</td>\n",
       "      <td>1.0</td>\n",
       "      <td>0.703308</td>\n",
       "      <td>0.340652</td>\n",
       "      <td>3.328642</td>\n",
       "      <td>1.0</td>\n",
       "      <td>0.996628</td>\n",
       "      <td>0.583928</td>\n",
       "      <td>0.661106</td>\n",
       "      <td>33.889408</td>\n",
       "    </tr>\n",
       "    <tr>\n",
       "      <th>4</th>\n",
       "      <td>102.0</td>\n",
       "      <td>2023_01_ARI_WAS</td>\n",
       "      <td>2023091007</td>\n",
       "      <td>WAS</td>\n",
       "      <td>ARI</td>\n",
       "      <td>REG</td>\n",
       "      <td>1</td>\n",
       "      <td>WAS</td>\n",
       "      <td>home</td>\n",
       "      <td>ARI</td>\n",
       "      <td>...</td>\n",
       "      <td>0.0</td>\n",
       "      <td>1.0</td>\n",
       "      <td>0.469799</td>\n",
       "      <td>NaN</td>\n",
       "      <td>NaN</td>\n",
       "      <td>NaN</td>\n",
       "      <td>NaN</td>\n",
       "      <td>NaN</td>\n",
       "      <td>0.196065</td>\n",
       "      <td>-19.606466</td>\n",
       "    </tr>\n",
       "    <tr>\n",
       "      <th>...</th>\n",
       "      <td>...</td>\n",
       "      <td>...</td>\n",
       "      <td>...</td>\n",
       "      <td>...</td>\n",
       "      <td>...</td>\n",
       "      <td>...</td>\n",
       "      <td>...</td>\n",
       "      <td>...</td>\n",
       "      <td>...</td>\n",
       "      <td>...</td>\n",
       "      <td>...</td>\n",
       "      <td>...</td>\n",
       "      <td>...</td>\n",
       "      <td>...</td>\n",
       "      <td>...</td>\n",
       "      <td>...</td>\n",
       "      <td>...</td>\n",
       "      <td>...</td>\n",
       "      <td>...</td>\n",
       "      <td>...</td>\n",
       "      <td>...</td>\n",
       "    </tr>\n",
       "    <tr>\n",
       "      <th>85840</th>\n",
       "      <td>4350.0</td>\n",
       "      <td>2024_14_SEA_ARI</td>\n",
       "      <td>2024120807</td>\n",
       "      <td>ARI</td>\n",
       "      <td>SEA</td>\n",
       "      <td>REG</td>\n",
       "      <td>14</td>\n",
       "      <td>ARI</td>\n",
       "      <td>home</td>\n",
       "      <td>SEA</td>\n",
       "      <td>...</td>\n",
       "      <td>0.0</td>\n",
       "      <td>1.0</td>\n",
       "      <td>0.446830</td>\n",
       "      <td>NaN</td>\n",
       "      <td>NaN</td>\n",
       "      <td>NaN</td>\n",
       "      <td>NaN</td>\n",
       "      <td>NaN</td>\n",
       "      <td>0.994749</td>\n",
       "      <td>0.525051</td>\n",
       "    </tr>\n",
       "    <tr>\n",
       "      <th>85841</th>\n",
       "      <td>4384.0</td>\n",
       "      <td>2024_14_SEA_ARI</td>\n",
       "      <td>2024120807</td>\n",
       "      <td>ARI</td>\n",
       "      <td>SEA</td>\n",
       "      <td>REG</td>\n",
       "      <td>14</td>\n",
       "      <td>ARI</td>\n",
       "      <td>home</td>\n",
       "      <td>SEA</td>\n",
       "      <td>...</td>\n",
       "      <td>0.0</td>\n",
       "      <td>1.0</td>\n",
       "      <td>-0.622971</td>\n",
       "      <td>NaN</td>\n",
       "      <td>NaN</td>\n",
       "      <td>NaN</td>\n",
       "      <td>NaN</td>\n",
       "      <td>NaN</td>\n",
       "      <td>0.993123</td>\n",
       "      <td>0.687653</td>\n",
       "    </tr>\n",
       "    <tr>\n",
       "      <th>85842</th>\n",
       "      <td>4419.0</td>\n",
       "      <td>2024_14_SEA_ARI</td>\n",
       "      <td>2024120807</td>\n",
       "      <td>ARI</td>\n",
       "      <td>SEA</td>\n",
       "      <td>REG</td>\n",
       "      <td>14</td>\n",
       "      <td>ARI</td>\n",
       "      <td>home</td>\n",
       "      <td>SEA</td>\n",
       "      <td>...</td>\n",
       "      <td>0.0</td>\n",
       "      <td>1.0</td>\n",
       "      <td>-0.677687</td>\n",
       "      <td>NaN</td>\n",
       "      <td>NaN</td>\n",
       "      <td>NaN</td>\n",
       "      <td>NaN</td>\n",
       "      <td>NaN</td>\n",
       "      <td>0.993178</td>\n",
       "      <td>0.682151</td>\n",
       "    </tr>\n",
       "    <tr>\n",
       "      <th>85843</th>\n",
       "      <td>4442.0</td>\n",
       "      <td>2024_14_SEA_ARI</td>\n",
       "      <td>2024120807</td>\n",
       "      <td>ARI</td>\n",
       "      <td>SEA</td>\n",
       "      <td>REG</td>\n",
       "      <td>14</td>\n",
       "      <td>ARI</td>\n",
       "      <td>home</td>\n",
       "      <td>SEA</td>\n",
       "      <td>...</td>\n",
       "      <td>0.0</td>\n",
       "      <td>1.0</td>\n",
       "      <td>-3.455225</td>\n",
       "      <td>NaN</td>\n",
       "      <td>NaN</td>\n",
       "      <td>NaN</td>\n",
       "      <td>NaN</td>\n",
       "      <td>NaN</td>\n",
       "      <td>0.990451</td>\n",
       "      <td>0.954854</td>\n",
       "    </tr>\n",
       "    <tr>\n",
       "      <th>85844</th>\n",
       "      <td>4462.0</td>\n",
       "      <td>2024_14_SEA_ARI</td>\n",
       "      <td>2024120807</td>\n",
       "      <td>ARI</td>\n",
       "      <td>SEA</td>\n",
       "      <td>REG</td>\n",
       "      <td>14</td>\n",
       "      <td>ARI</td>\n",
       "      <td>home</td>\n",
       "      <td>SEA</td>\n",
       "      <td>...</td>\n",
       "      <td>0.0</td>\n",
       "      <td>1.0</td>\n",
       "      <td>NaN</td>\n",
       "      <td>NaN</td>\n",
       "      <td>NaN</td>\n",
       "      <td>NaN</td>\n",
       "      <td>NaN</td>\n",
       "      <td>NaN</td>\n",
       "      <td>NaN</td>\n",
       "      <td>NaN</td>\n",
       "    </tr>\n",
       "  </tbody>\n",
       "</table>\n",
       "<p>85845 rows × 372 columns</p>\n",
       "</div>"
      ],
      "text/plain": [
       "       play_id          game_id old_game_id home_team away_team season_type  \\\n",
       "0          1.0  2023_01_ARI_WAS  2023091007       WAS       ARI         REG   \n",
       "1         39.0  2023_01_ARI_WAS  2023091007       WAS       ARI         REG   \n",
       "2         55.0  2023_01_ARI_WAS  2023091007       WAS       ARI         REG   \n",
       "3         77.0  2023_01_ARI_WAS  2023091007       WAS       ARI         REG   \n",
       "4        102.0  2023_01_ARI_WAS  2023091007       WAS       ARI         REG   \n",
       "...        ...              ...         ...       ...       ...         ...   \n",
       "85840   4350.0  2024_14_SEA_ARI  2024120807       ARI       SEA         REG   \n",
       "85841   4384.0  2024_14_SEA_ARI  2024120807       ARI       SEA         REG   \n",
       "85842   4419.0  2024_14_SEA_ARI  2024120807       ARI       SEA         REG   \n",
       "85843   4442.0  2024_14_SEA_ARI  2024120807       ARI       SEA         REG   \n",
       "85844   4462.0  2024_14_SEA_ARI  2024120807       ARI       SEA         REG   \n",
       "\n",
       "       week posteam posteam_type defteam  ... out_of_bounds  \\\n",
       "0         1    None         None    None  ...           0.0   \n",
       "1         1     WAS         home     ARI  ...           0.0   \n",
       "2         1     WAS         home     ARI  ...           0.0   \n",
       "3         1     WAS         home     ARI  ...           0.0   \n",
       "4         1     WAS         home     ARI  ...           0.0   \n",
       "...     ...     ...          ...     ...  ...           ...   \n",
       "85840    14     ARI         home     SEA  ...           0.0   \n",
       "85841    14     ARI         home     SEA  ...           0.0   \n",
       "85842    14     ARI         home     SEA  ...           0.0   \n",
       "85843    14     ARI         home     SEA  ...           0.0   \n",
       "85844    14     ARI         home     SEA  ...           0.0   \n",
       "\n",
       "       home_opening_kickoff    qb_epa  xyac_epa  xyac_mean_yardage  \\\n",
       "0                       1.0  0.000000       NaN                NaN   \n",
       "1                       1.0  0.000000       NaN                NaN   \n",
       "2                       1.0 -0.336103       NaN                NaN   \n",
       "3                       1.0  0.703308  0.340652           3.328642   \n",
       "4                       1.0  0.469799       NaN                NaN   \n",
       "...                     ...       ...       ...                ...   \n",
       "85840                   1.0  0.446830       NaN                NaN   \n",
       "85841                   1.0 -0.622971       NaN                NaN   \n",
       "85842                   1.0 -0.677687       NaN                NaN   \n",
       "85843                   1.0 -3.455225       NaN                NaN   \n",
       "85844                   1.0       NaN       NaN                NaN   \n",
       "\n",
       "       xyac_median_yardage xyac_success   xyac_fd     xpass    pass_oe  \n",
       "0                      NaN          NaN       NaN       NaN        NaN  \n",
       "1                      NaN          NaN       NaN       NaN        NaN  \n",
       "2                      NaN          NaN       NaN  0.515058 -51.505844  \n",
       "3                      1.0     0.996628  0.583928  0.661106  33.889408  \n",
       "4                      NaN          NaN       NaN  0.196065 -19.606466  \n",
       "...                    ...          ...       ...       ...        ...  \n",
       "85840                  NaN          NaN       NaN  0.994749   0.525051  \n",
       "85841                  NaN          NaN       NaN  0.993123   0.687653  \n",
       "85842                  NaN          NaN       NaN  0.993178   0.682151  \n",
       "85843                  NaN          NaN       NaN  0.990451   0.954854  \n",
       "85844                  NaN          NaN       NaN       NaN        NaN  \n",
       "\n",
       "[85845 rows x 372 columns]"
      ]
     },
     "execution_count": 7,
     "metadata": {},
     "output_type": "execute_result"
    }
   ],
   "source": [
    "pbp"
   ]
  },
  {
   "cell_type": "code",
   "execution_count": 8,
   "metadata": {},
   "outputs": [
    {
     "name": "stdout",
     "output_type": "stream",
     "text": [
      "down\n",
      "1.0      39.0\n",
      "2.0      55.0\n",
      "3.0      53.0\n",
      "4.0    1834.0\n",
      "Name: field_goal_attempt, dtype: float32\n"
     ]
    }
   ],
   "source": [
    "# Find out when field goals happen\n",
    "field_goal_attempts = (\n",
    "    pbp.dropna(subset=['down', 'field_goal_attempt'])\n",
    "    .groupby('down')['field_goal_attempt']\n",
    "    .sum()\n",
    ")\n",
    "print(field_goal_attempts)"
   ]
  },
  {
   "cell_type": "code",
   "execution_count": 9,
   "metadata": {},
   "outputs": [],
   "source": [
    "# Get data for field goals\n",
    "field_goals = (\n",
    "    pbp[pbp['field_goal_attempt'] == 1]\n",
    "    .assign(field_goal_made=lambda x: np.where(x['field_goal_result'] == 'made', 1, 0))\n",
    "    .loc[:, ['yardline_100', 'half_seconds_remaining', 'goal_to_go', 'score_differential', \n",
    "             'roof', 'surface', 'temp', 'wind', 'field_goal_made', 'kicker_player_name']]\n",
    ")"
   ]
  },
  {
   "cell_type": "code",
   "execution_count": 10,
   "metadata": {},
   "outputs": [
    {
     "name": "stdout",
     "output_type": "stream",
     "text": [
      "NA Counts:\n",
      "yardline_100                0\n",
      "half_seconds_remaining      0\n",
      "goal_to_go                  0\n",
      "score_differential          0\n",
      "roof                        0\n",
      "surface                     0\n",
      "temp                      832\n",
      "wind                      832\n",
      "field_goal_made             0\n",
      "kicker_player_name          0\n",
      "dtype: int64\n",
      "NA in temp grouped by roof:\n",
      "roof\n",
      "closed      271\n",
      "dome        360\n",
      "open         61\n",
      "outdoors    140\n",
      "dtype: int64\n",
      "NA in wind grouped by roof:\n",
      "roof\n",
      "closed      271\n",
      "dome        360\n",
      "open         61\n",
      "outdoors    140\n",
      "dtype: int64\n"
     ]
    }
   ],
   "source": [
    "# Check NA values\n",
    "na_counts = field_goals.isna().sum()\n",
    "print(\"NA Counts:\")\n",
    "print(na_counts)\n",
    "\n",
    "# Remove rows with NA in 'roof'\n",
    "field_goals = field_goals.dropna(subset=['roof'])\n",
    "\n",
    "# Check where NA values for temp and wind come from\n",
    "temp_na_by_roof = field_goals[field_goals['temp'].isna()].groupby('roof').size()\n",
    "wind_na_by_roof = field_goals[field_goals['wind'].isna()].groupby('roof').size()\n",
    "print(\"NA in temp grouped by roof:\")\n",
    "print(temp_na_by_roof)\n",
    "print(\"NA in wind grouped by roof:\")\n",
    "print(wind_na_by_roof)"
   ]
  },
  {
   "cell_type": "code",
   "execution_count": 11,
   "metadata": {},
   "outputs": [],
   "source": [
    "# Fill NA values for temp and wind\n",
    "field_goals['temp'] = field_goals['temp'].fillna(68)\n",
    "field_goals['wind'] = field_goals['wind'].fillna(0)"
   ]
  },
  {
   "cell_type": "code",
   "execution_count": 12,
   "metadata": {},
   "outputs": [
    {
     "name": "stdout",
     "output_type": "stream",
     "text": [
      "yardline_100              float32\n",
      "half_seconds_remaining    float32\n",
      "goal_to_go                  int32\n",
      "score_differential        float32\n",
      "roof                       object\n",
      "surface                    object\n",
      "temp                      float32\n",
      "wind                      float32\n",
      "field_goal_made             int64\n",
      "kicker_player_name         object\n",
      "dtype: object\n"
     ]
    }
   ],
   "source": [
    "# Check data types\n",
    "print(field_goals.dtypes)"
   ]
  },
  {
   "cell_type": "code",
   "execution_count": 13,
   "metadata": {},
   "outputs": [],
   "source": [
    "# Convert 'goal_to_go' to categorical\n",
    "field_goals['goal_to_go'] = field_goals['goal_to_go'].astype('category')"
   ]
  },
  {
   "cell_type": "code",
   "execution_count": 14,
   "metadata": {},
   "outputs": [],
   "source": [
    "# Prepare data for modeling\n",
    "X = field_goals[['yardline_100', 'half_seconds_remaining', 'score_differential', \n",
    "                 'roof', 'surface', 'temp', 'wind']]\n",
    "y = field_goals['field_goal_made']"
   ]
  },
  {
   "cell_type": "code",
   "execution_count": 15,
   "metadata": {},
   "outputs": [],
   "source": [
    "# One-hot encoding for categorical variables\n",
    "X = pd.get_dummies(X, drop_first=True)"
   ]
  },
  {
   "cell_type": "code",
   "execution_count": 17,
   "metadata": {},
   "outputs": [
    {
     "data": {
      "text/html": [
       "<style>#sk-container-id-2 {color: black;background-color: white;}#sk-container-id-2 pre{padding: 0;}#sk-container-id-2 div.sk-toggleable {background-color: white;}#sk-container-id-2 label.sk-toggleable__label {cursor: pointer;display: block;width: 100%;margin-bottom: 0;padding: 0.3em;box-sizing: border-box;text-align: center;}#sk-container-id-2 label.sk-toggleable__label-arrow:before {content: \"▸\";float: left;margin-right: 0.25em;color: #696969;}#sk-container-id-2 label.sk-toggleable__label-arrow:hover:before {color: black;}#sk-container-id-2 div.sk-estimator:hover label.sk-toggleable__label-arrow:before {color: black;}#sk-container-id-2 div.sk-toggleable__content {max-height: 0;max-width: 0;overflow: hidden;text-align: left;background-color: #f0f8ff;}#sk-container-id-2 div.sk-toggleable__content pre {margin: 0.2em;color: black;border-radius: 0.25em;background-color: #f0f8ff;}#sk-container-id-2 input.sk-toggleable__control:checked~div.sk-toggleable__content {max-height: 200px;max-width: 100%;overflow: auto;}#sk-container-id-2 input.sk-toggleable__control:checked~label.sk-toggleable__label-arrow:before {content: \"▾\";}#sk-container-id-2 div.sk-estimator input.sk-toggleable__control:checked~label.sk-toggleable__label {background-color: #d4ebff;}#sk-container-id-2 div.sk-label input.sk-toggleable__control:checked~label.sk-toggleable__label {background-color: #d4ebff;}#sk-container-id-2 input.sk-hidden--visually {border: 0;clip: rect(1px 1px 1px 1px);clip: rect(1px, 1px, 1px, 1px);height: 1px;margin: -1px;overflow: hidden;padding: 0;position: absolute;width: 1px;}#sk-container-id-2 div.sk-estimator {font-family: monospace;background-color: #f0f8ff;border: 1px dotted black;border-radius: 0.25em;box-sizing: border-box;margin-bottom: 0.5em;}#sk-container-id-2 div.sk-estimator:hover {background-color: #d4ebff;}#sk-container-id-2 div.sk-parallel-item::after {content: \"\";width: 100%;border-bottom: 1px solid gray;flex-grow: 1;}#sk-container-id-2 div.sk-label:hover label.sk-toggleable__label {background-color: #d4ebff;}#sk-container-id-2 div.sk-serial::before {content: \"\";position: absolute;border-left: 1px solid gray;box-sizing: border-box;top: 0;bottom: 0;left: 50%;z-index: 0;}#sk-container-id-2 div.sk-serial {display: flex;flex-direction: column;align-items: center;background-color: white;padding-right: 0.2em;padding-left: 0.2em;position: relative;}#sk-container-id-2 div.sk-item {position: relative;z-index: 1;}#sk-container-id-2 div.sk-parallel {display: flex;align-items: stretch;justify-content: center;background-color: white;position: relative;}#sk-container-id-2 div.sk-item::before, #sk-container-id-2 div.sk-parallel-item::before {content: \"\";position: absolute;border-left: 1px solid gray;box-sizing: border-box;top: 0;bottom: 0;left: 50%;z-index: -1;}#sk-container-id-2 div.sk-parallel-item {display: flex;flex-direction: column;z-index: 1;position: relative;background-color: white;}#sk-container-id-2 div.sk-parallel-item:first-child::after {align-self: flex-end;width: 50%;}#sk-container-id-2 div.sk-parallel-item:last-child::after {align-self: flex-start;width: 50%;}#sk-container-id-2 div.sk-parallel-item:only-child::after {width: 0;}#sk-container-id-2 div.sk-dashed-wrapped {border: 1px dashed gray;margin: 0 0.4em 0.5em 0.4em;box-sizing: border-box;padding-bottom: 0.4em;background-color: white;}#sk-container-id-2 div.sk-label label {font-family: monospace;font-weight: bold;display: inline-block;line-height: 1.2em;}#sk-container-id-2 div.sk-label-container {text-align: center;}#sk-container-id-2 div.sk-container {/* jupyter's `normalize.less` sets `[hidden] { display: none; }` but bootstrap.min.css set `[hidden] { display: none !important; }` so we also need the `!important` here to be able to override the default hidden behavior on the sphinx rendered scikit-learn.org. See: https://github.com/scikit-learn/scikit-learn/issues/21755 */display: inline-block !important;position: relative;}#sk-container-id-2 div.sk-text-repr-fallback {display: none;}</style><div id=\"sk-container-id-2\" class=\"sk-top-container\"><div class=\"sk-text-repr-fallback\"><pre>RandomForestClassifier(random_state=86)</pre><b>In a Jupyter environment, please rerun this cell to show the HTML representation or trust the notebook. <br />On GitHub, the HTML representation is unable to render, please try loading this page with nbviewer.org.</b></div><div class=\"sk-container\" hidden><div class=\"sk-item\"><div class=\"sk-estimator sk-toggleable\"><input class=\"sk-toggleable__control sk-hidden--visually\" id=\"sk-estimator-id-2\" type=\"checkbox\" checked><label for=\"sk-estimator-id-2\" class=\"sk-toggleable__label sk-toggleable__label-arrow\">RandomForestClassifier</label><div class=\"sk-toggleable__content\"><pre>RandomForestClassifier(random_state=86)</pre></div></div></div></div></div>"
      ],
      "text/plain": [
       "RandomForestClassifier(random_state=86)"
      ]
     },
     "execution_count": 17,
     "metadata": {},
     "output_type": "execute_result"
    }
   ],
   "source": [
    "# Build the Random Forest model\n",
    "rf = RandomForestClassifier(random_state=86)\n",
    "rf.fit(X, y)\n"
   ]
  },
  {
   "cell_type": "code",
   "execution_count": 18,
   "metadata": {},
   "outputs": [
    {
     "name": "stdout",
     "output_type": "stream",
     "text": [
      "Random Forest Model:\n",
      "RandomForestClassifier(random_state=86)\n"
     ]
    }
   ],
   "source": [
    "# Check the Random Forest model\n",
    "print(\"Random Forest Model:\")\n",
    "print(rf)"
   ]
  },
  {
   "cell_type": "code",
   "execution_count": 19,
   "metadata": {},
   "outputs": [],
   "source": [
    "# Feature importance\n",
    "importances = rf.feature_importances_\n",
    "feature_names = X.columns\n",
    "feature_importance_df = pd.DataFrame({'Feature': feature_names, 'Importance': importances})\n",
    "feature_importance_df = feature_importance_df.sort_values(by='Importance', ascending=False)"
   ]
  },
  {
   "cell_type": "code",
   "execution_count": 20,
   "metadata": {},
   "outputs": [
    {
     "data": {
      "image/png": "[encoded data removed]",
      "text/plain": [
       "<Figure size 1000x600 with 1 Axes>"
      ]
     },
     "metadata": {},
     "output_type": "display_data"
    }
   ],
   "source": [
    "# Plot feature importance\n",
    "plt.figure(figsize=(10, 6))\n",
    "sns.barplot(data=feature_importance_df, x='Importance', y='Feature')\n",
    "plt.title('Feature Importance')\n",
    "plt.show()"
   ]
  },
  {
   "cell_type": "code",
   "execution_count": 21,
   "metadata": {},
   "outputs": [],
   "source": [
    "# Get predictions\n",
    "field_goals['pred_prob'] = rf.predict_proba(X)[:, 1]\n"
   ]
  },
  {
   "cell_type": "code",
   "execution_count": 23,
   "metadata": {},
   "outputs": [
    {
     "name": "stderr",
     "output_type": "stream",
     "text": [
      "/opt/anaconda3/lib/python3.11/site-packages/seaborn/_oldcore.py:1119: FutureWarning: use_inf_as_na option is deprecated and will be removed in a future version. Convert inf values to NaN before operating instead.\n",
      "  with pd.option_context('mode.use_inf_as_na', True):\n"
     ]
    },
    {
     "data": {
      "image/png": "[encoded data removed]",
      "text/plain": [
       "<Figure size 1000x600 with 1 Axes>"
      ]
     },
     "metadata": {},
     "output_type": "display_data"
    }
   ],
   "source": [
    "# Combine predictions with original dataset\n",
    "field_goals['fg_oe'] = field_goals['field_goal_made'] - field_goals['pred_prob']\n",
    "\n",
    "# Plot the distribution of fg_oe\n",
    "plt.figure(figsize=(10, 6))\n",
    "sns.histplot(field_goals['fg_oe'], bins=20, kde=True)\n",
    "plt.title('Distribution of Field Goal Over Expectancy')\n",
    "plt.xlabel('Field Goal Overtime Expectancy')\n",
    "plt.ylabel('Frequency')\n",
    "plt.show()\n"
   ]
  },
  {
   "cell_type": "code",
   "execution_count": 27,
   "metadata": {},
   "outputs": [],
   "source": [
    "# See leaderboard\n",
    "leaderboard = (\n",
    "    field_goals.groupby('kicker_player_name')\n",
    "    .agg(kicks_oe_made=('fg_oe', 'sum'), attempts=('field_goal_made', 'count'))\n",
    "    .reset_index()\n",
    "    .sort_values(by='kicks_oe_made', ascending=False)\n",
    ")"
   ]
  },
  {
   "cell_type": "code",
   "execution_count": 28,
   "metadata": {},
   "outputs": [
    {
     "name": "stdout",
     "output_type": "stream",
     "text": [
      "Leaderboard:\n",
      "   kicker_player_name  kicks_oe_made  attempts\n",
      "7           C.Boswell   2.330000e+00        71\n",
      "8            C.Dicker   1.920000e+00        63\n",
      "43             N.Folk   1.810000e+00        52\n",
      "22           H.Butker   1.590000e+00        66\n",
      "10       C.McLaughlin   1.380000e+00        59\n",
      "2            B.Aubrey   9.800000e-01        73\n",
      "48             W.Lutz   9.300000e-01        63\n",
      "12           C.Santos   9.000000e-01        58\n",
      "31          J.Sanders   8.800000e-01        58\n",
      "23            J.Bates   7.800000e-01        22\n",
      "29            J.Myers   6.100000e-01        65\n",
      "34        K.Fairbairn   5.400000e-01        68\n",
      "9            C.Little   4.600000e-01        20\n",
      "49         W.Reichard   3.900000e-01        17\n",
      "40           M.Prater   3.700000e-01        39\n",
      "18          E.Pineiro   2.400000e-01        52\n",
      "42           M.Wright   2.200000e-01        13\n",
      "30             J.Romo   2.100000e-01        12\n",
      "46          S.Shrader   1.800000e-01         5\n",
      "24          J.Elliott   1.500000e-01        57\n",
      "37          M.Badgley   1.200000e-01         7\n",
      "44          R.Bullock   7.000000e-02         6\n",
      "25           J.Gillan   2.000000e-02         1\n",
      "1           A.Seibert   1.000000e-02        31\n",
      "16       D.Ogunbowale   1.000000e-02         1\n",
      "21         G.Zuerlein   5.551115e-16        53\n",
      "41       M.Wishnowsky   0.000000e+00         1\n",
      "27        J.McAtamney   0.000000e+00         1\n",
      "51         Z.Gonzalez  -3.000000e-02         5\n",
      "45        R.Patterson  -5.000000e-02        18\n",
      "15          D.Hopkins  -7.000000e-02        61\n",
      "0           A.Carlson  -1.400000e-01        47\n",
      "5           B.McManus  -1.600000e-01        49\n",
      "17        E.McPherson  -1.900000e-01        53\n",
      "38           M.Crosby  -2.200000e-01         7\n",
      "13             C.York  -3.000000e-01         4\n",
      "32             J.Slye  -3.300000e-01        52\n",
      "3             B.Grupe  -4.500000e-01        61\n",
      "33           J.Tucker  -5.200000e-01        67\n",
      "39              M.Gay  -6.100000e-01        66\n",
      "20           G.Joseph  -6.400000e-01        46\n",
      "50              Y.Koo  -6.600000e-01        68\n",
      "14          D.Carlson  -6.900000e-01        60\n",
      "36        M.Ammendola  -7.200000e-01         9\n",
      "47             T.Bass  -7.300000e-01        57\n",
      "6          B.Narveson  -8.200000e-01        17\n",
      "4             B.Maher  -8.800000e-01        26\n",
      "35         L.Havrisik  -9.500000e-01        20\n",
      "26            J.Karty  -9.600000e-01        22\n",
      "19             G.Gano  -1.090000e+00        25\n",
      "28            J.Moody  -1.170000e+00        59\n",
      "11           C.Ryland  -1.470000e+00        48\n"
     ]
    }
   ],
   "source": [
    "print(\"Leaderboard:\")\n",
    "print(leaderboard)"
   ]
  },
  {
   "cell_type": "code",
   "execution_count": 24,
   "metadata": {},
   "outputs": [],
   "source": [
    "# See leaderboard\n",
    "leaderboard = (\n",
    "    field_goals.groupby('kicker_player_name')['fg_oe']\n",
    "    .sum()\n",
    "    .reset_index()\n",
    "    .rename(columns={'fg_oe': 'kicks_oe_made'})\n",
    "    .sort_values(by='kicks_oe_made', ascending=False)\n",
    ")"
   ]
  },
  {
   "cell_type": "code",
   "execution_count": 26,
   "metadata": {},
   "outputs": [
    {
     "name": "stdout",
     "output_type": "stream",
     "text": [
      "Leaderboard:\n",
      "   kicker_player_name  kicks_oe_made\n",
      "7           C.Boswell   2.330000e+00\n",
      "8            C.Dicker   1.920000e+00\n",
      "43             N.Folk   1.810000e+00\n",
      "22           H.Butker   1.590000e+00\n",
      "10       C.McLaughlin   1.380000e+00\n",
      "2            B.Aubrey   9.800000e-01\n",
      "48             W.Lutz   9.300000e-01\n",
      "12           C.Santos   9.000000e-01\n",
      "31          J.Sanders   8.800000e-01\n",
      "23            J.Bates   7.800000e-01\n",
      "29            J.Myers   6.100000e-01\n",
      "34        K.Fairbairn   5.400000e-01\n",
      "9            C.Little   4.600000e-01\n",
      "49         W.Reichard   3.900000e-01\n",
      "40           M.Prater   3.700000e-01\n",
      "18          E.Pineiro   2.400000e-01\n",
      "42           M.Wright   2.200000e-01\n",
      "30             J.Romo   2.100000e-01\n",
      "46          S.Shrader   1.800000e-01\n",
      "24          J.Elliott   1.500000e-01\n",
      "37          M.Badgley   1.200000e-01\n",
      "44          R.Bullock   7.000000e-02\n",
      "25           J.Gillan   2.000000e-02\n",
      "1           A.Seibert   1.000000e-02\n",
      "16       D.Ogunbowale   1.000000e-02\n",
      "21         G.Zuerlein   5.551115e-16\n",
      "41       M.Wishnowsky   0.000000e+00\n",
      "27        J.McAtamney   0.000000e+00\n",
      "51         Z.Gonzalez  -3.000000e-02\n",
      "45        R.Patterson  -5.000000e-02\n",
      "15          D.Hopkins  -7.000000e-02\n",
      "0           A.Carlson  -1.400000e-01\n",
      "5           B.McManus  -1.600000e-01\n",
      "17        E.McPherson  -1.900000e-01\n",
      "38           M.Crosby  -2.200000e-01\n",
      "13             C.York  -3.000000e-01\n",
      "32             J.Slye  -3.300000e-01\n",
      "3             B.Grupe  -4.500000e-01\n",
      "33           J.Tucker  -5.200000e-01\n",
      "39              M.Gay  -6.100000e-01\n",
      "20           G.Joseph  -6.400000e-01\n",
      "50              Y.Koo  -6.600000e-01\n",
      "14          D.Carlson  -6.900000e-01\n",
      "36        M.Ammendola  -7.200000e-01\n",
      "47             T.Bass  -7.300000e-01\n",
      "6          B.Narveson  -8.200000e-01\n",
      "4             B.Maher  -8.800000e-01\n",
      "35         L.Havrisik  -9.500000e-01\n",
      "26            J.Karty  -9.600000e-01\n",
      "19             G.Gano  -1.090000e+00\n",
      "28            J.Moody  -1.170000e+00\n",
      "11           C.Ryland  -1.470000e+00\n"
     ]
    }
   ],
   "source": [
    "print(\"Leaderboard:\")\n",
    "print(leaderboard)"
   ]
  },
  {
   "cell_type": "code",
   "execution_count": 33,
   "metadata": {},
   "outputs": [
    {
     "data": {
      "application/vnd.plotly.v1+json": {
       "config": {
        "plotlyServerURL": "https://plot.ly"
       },
       "data": [
        {
         "hovertemplate": "<b>%{hovertext}</b><br><br>kicker_player_name=C.Boswell<br>Attempts=%{x}<br>Field Goal Over Expected (FG OE)=%{y}<extra></extra>",
         "hovertext": [
          "C.Boswell"
         ],
         "legendgroup": "C.Boswell",
         "marker": {
          "color": "#636efa",
          "symbol": "circle"
         },
         "mode": "markers",
         "name": "C.Boswell",
         "orientation": "v",
         "showlegend": true,
         "type": "scatter",
         "x": [
          71
         ],
         "xaxis": "x",
         "y": [
          2.3300000000000005
         ],
         "yaxis": "y"
        },
        {
         "hovertemplate": "<b>%{hovertext}</b><br><br>kicker_player_name=C.Dicker<br>Attempts=%{x}<br>Field Goal Over Expected (FG OE)=%{y}<extra></extra>",
         "hovertext": [
          "C.Dicker"
         ],
         "legendgroup": "C.Dicker",
         "marker": {
          "color": "#EF553B",
          "symbol": "circle"
         },
         "mode": "markers",
         "name": "C.Dicker",
         "orientation": "v",
         "showlegend": true,
         "type": "scatter",
         "x": [
          63
         ],
         "xaxis": "x",
         "y": [
          1.9200000000000004
         ],
         "yaxis": "y"
        },
        {
         "hovertemplate": "<b>%{hovertext}</b><br><br>kicker_player_name=N.Folk<br>Attempts=%{x}<br>Field Goal Over Expected (FG OE)=%{y}<extra></extra>",
         "hovertext": [
          "N.Folk"
         ],
         "legendgroup": "N.Folk",
         "marker": {
          "color": "#00cc96",
          "symbol": "circle"
         },
         "mode": "markers",
         "name": "N.Folk",
         "orientation": "v",
         "showlegend": true,
         "type": "scatter",
         "x": [
          52
         ],
         "xaxis": "x",
         "y": [
          1.8100000000000003
         ],
         "yaxis": "y"
        },
        {
         "hovertemplate": "<b>%{hovertext}</b><br><br>kicker_player_name=H.Butker<br>Attempts=%{x}<br>Field Goal Over Expected (FG OE)=%{y}<extra></extra>",
         "hovertext": [
          "H.Butker"
         ],
         "legendgroup": "H.Butker",
         "marker": {
          "color": "#ab63fa",
          "symbol": "circle"
         },
         "mode": "markers",
         "name": "H.Butker",
         "orientation": "v",
         "showlegend": true,
         "type": "scatter",
         "x": [
          66
         ],
         "xaxis": "x",
         "y": [
          1.5900000000000007
         ],
         "yaxis": "y"
        },
        {
         "hovertemplate": "<b>%{hovertext}</b><br><br>kicker_player_name=C.McLaughlin<br>Attempts=%{x}<br>Field Goal Over Expected (FG OE)=%{y}<extra></extra>",
         "hovertext": [
          "C.McLaughlin"
         ],
         "legendgroup": "C.McLaughlin",
         "marker": {
          "color": "#FFA15A",
          "symbol": "circle"
         },
         "mode": "markers",
         "name": "C.McLaughlin",
         "orientation": "v",
         "showlegend": true,
         "type": "scatter",
         "x": [
          59
         ],
         "xaxis": "x",
         "y": [
          1.3800000000000006
         ],
         "yaxis": "y"
        },
        {
         "hovertemplate": "<b>%{hovertext}</b><br><br>kicker_player_name=B.Aubrey<br>Attempts=%{x}<br>Field Goal Over Expected (FG OE)=%{y}<extra></extra>",
         "hovertext": [
          "B.Aubrey"
         ],
         "legendgroup": "B.Aubrey",
         "marker": {
          "color": "#19d3f3",
          "symbol": "circle"
         },
         "mode": "markers",
         "name": "B.Aubrey",
         "orientation": "v",
         "showlegend": true,
         "type": "scatter",
         "x": [
          73
         ],
         "xaxis": "x",
         "y": [
          0.9800000000000004
         ],
         "yaxis": "y"
        },
        {
         "hovertemplate": "<b>%{hovertext}</b><br><br>kicker_player_name=W.Lutz<br>Attempts=%{x}<br>Field Goal Over Expected (FG OE)=%{y}<extra></extra>",
         "hovertext": [
          "W.Lutz"
         ],
         "legendgroup": "W.Lutz",
         "marker": {
          "color": "#FF6692",
          "symbol": "circle"
         },
         "mode": "markers",
         "name": "W.Lutz",
         "orientation": "v",
         "showlegend": true,
         "type": "scatter",
         "x": [
          63
         ],
         "xaxis": "x",
         "y": [
          0.9300000000000003
         ],
         "yaxis": "y"
        },
        {
         "hovertemplate": "<b>%{hovertext}</b><br><br>kicker_player_name=C.Santos<br>Attempts=%{x}<br>Field Goal Over Expected (FG OE)=%{y}<extra></extra>",
         "hovertext": [
          "C.Santos"
         ],
         "legendgroup": "C.Santos",
         "marker": {
          "color": "#B6E880",
          "symbol": "circle"
         },
         "mode": "markers",
         "name": "C.Santos",
         "orientation": "v",
         "showlegend": true,
         "type": "scatter",
         "x": [
          58
         ],
         "xaxis": "x",
         "y": [
          0.9000000000000006
         ],
         "yaxis": "y"
        },
        {
         "hovertemplate": "<b>%{hovertext}</b><br><br>kicker_player_name=J.Sanders<br>Attempts=%{x}<br>Field Goal Over Expected (FG OE)=%{y}<extra></extra>",
         "hovertext": [
          "J.Sanders"
         ],
         "legendgroup": "J.Sanders",
         "marker": {
          "color": "#FF97FF",
          "symbol": "circle"
         },
         "mode": "markers",
         "name": "J.Sanders",
         "orientation": "v",
         "showlegend": true,
         "type": "scatter",
         "x": [
          58
         ],
         "xaxis": "x",
         "y": [
          0.8800000000000001
         ],
         "yaxis": "y"
        },
        {
         "hovertemplate": "<b>%{hovertext}</b><br><br>kicker_player_name=J.Bates<br>Attempts=%{x}<br>Field Goal Over Expected (FG OE)=%{y}<extra></extra>",
         "hovertext": [
          "J.Bates"
         ],
         "legendgroup": "J.Bates",
         "marker": {
          "color": "#FECB52",
          "symbol": "circle"
         },
         "mode": "markers",
         "name": "J.Bates",
         "orientation": "v",
         "showlegend": true,
         "type": "scatter",
         "x": [
          22
         ],
         "xaxis": "x",
         "y": [
          0.7800000000000002
         ],
         "yaxis": "y"
        },
        {
         "hovertemplate": "<b>%{hovertext}</b><br><br>kicker_player_name=J.Myers<br>Attempts=%{x}<br>Field Goal Over Expected (FG OE)=%{y}<extra></extra>",
         "hovertext": [
          "J.Myers"
         ],
         "legendgroup": "J.Myers",
         "marker": {
          "color": "#636efa",
          "symbol": "circle"
         },
         "mode": "markers",
         "name": "J.Myers",
         "orientation": "v",
         "showlegend": true,
         "type": "scatter",
         "x": [
          65
         ],
         "xaxis": "x",
         "y": [
          0.6100000000000005
         ],
         "yaxis": "y"
        },
        {
         "hovertemplate": "<b>%{hovertext}</b><br><br>kicker_player_name=K.Fairbairn<br>Attempts=%{x}<br>Field Goal Over Expected (FG OE)=%{y}<extra></extra>",
         "hovertext": [
          "K.Fairbairn"
         ],
         "legendgroup": "K.Fairbairn",
         "marker": {
          "color": "#EF553B",
          "symbol": "circle"
         },
         "mode": "markers",
         "name": "K.Fairbairn",
         "orientation": "v",
         "showlegend": true,
         "type": "scatter",
         "x": [
          68
         ],
         "xaxis": "x",
         "y": [
          0.5400000000000003
         ],
         "yaxis": "y"
        },
        {
         "hovertemplate": "<b>%{hovertext}</b><br><br>kicker_player_name=C.Little<br>Attempts=%{x}<br>Field Goal Over Expected (FG OE)=%{y}<extra></extra>",
         "hovertext": [
          "C.Little"
         ],
         "legendgroup": "C.Little",
         "marker": {
          "color": "#00cc96",
          "symbol": "circle"
         },
         "mode": "markers",
         "name": "C.Little",
         "orientation": "v",
         "showlegend": true,
         "type": "scatter",
         "x": [
          20
         ],
         "xaxis": "x",
         "y": [
          0.4600000000000001
         ],
         "yaxis": "y"
        },
        {
         "hovertemplate": "<b>%{hovertext}</b><br><br>kicker_player_name=W.Reichard<br>Attempts=%{x}<br>Field Goal Over Expected (FG OE)=%{y}<extra></extra>",
         "hovertext": [
          "W.Reichard"
         ],
         "legendgroup": "W.Reichard",
         "marker": {
          "color": "#ab63fa",
          "symbol": "circle"
         },
         "mode": "markers",
         "name": "W.Reichard",
         "orientation": "v",
         "showlegend": true,
         "type": "scatter",
         "x": [
          17
         ],
         "xaxis": "x",
         "y": [
          0.3900000000000001
         ],
         "yaxis": "y"
        },
        {
         "hovertemplate": "<b>%{hovertext}</b><br><br>kicker_player_name=M.Prater<br>Attempts=%{x}<br>Field Goal Over Expected (FG OE)=%{y}<extra></extra>",
         "hovertext": [
          "M.Prater"
         ],
         "legendgroup": "M.Prater",
         "marker": {
          "color": "#FFA15A",
          "symbol": "circle"
         },
         "mode": "markers",
         "name": "M.Prater",
         "orientation": "v",
         "showlegend": true,
         "type": "scatter",
         "x": [
          39
         ],
         "xaxis": "x",
         "y": [
          0.36999999999999983
         ],
         "yaxis": "y"
        },
        {
         "hovertemplate": "<b>%{hovertext}</b><br><br>kicker_player_name=E.Pineiro<br>Attempts=%{x}<br>Field Goal Over Expected (FG OE)=%{y}<extra></extra>",
         "hovertext": [
          "E.Pineiro"
         ],
         "legendgroup": "E.Pineiro",
         "marker": {
          "color": "#19d3f3",
          "symbol": "circle"
         },
         "mode": "markers",
         "name": "E.Pineiro",
         "orientation": "v",
         "showlegend": true,
         "type": "scatter",
         "x": [
          52
         ],
         "xaxis": "x",
         "y": [
          0.24000000000000024
         ],
         "yaxis": "y"
        },
        {
         "hovertemplate": "<b>%{hovertext}</b><br><br>kicker_player_name=M.Wright<br>Attempts=%{x}<br>Field Goal Over Expected (FG OE)=%{y}<extra></extra>",
         "hovertext": [
          "M.Wright"
         ],
         "legendgroup": "M.Wright",
         "marker": {
          "color": "#FF6692",
          "symbol": "circle"
         },
         "mode": "markers",
         "name": "M.Wright",
         "orientation": "v",
         "showlegend": true,
         "type": "scatter",
         "x": [
          13
         ],
         "xaxis": "x",
         "y": [
          0.22000000000000003
         ],
         "yaxis": "y"
        },
        {
         "hovertemplate": "<b>%{hovertext}</b><br><br>kicker_player_name=J.Romo<br>Attempts=%{x}<br>Field Goal Over Expected (FG OE)=%{y}<extra></extra>",
         "hovertext": [
          "J.Romo"
         ],
         "legendgroup": "J.Romo",
         "marker": {
          "color": "#B6E880",
          "symbol": "circle"
         },
         "mode": "markers",
         "name": "J.Romo",
         "orientation": "v",
         "showlegend": true,
         "type": "scatter",
         "x": [
          12
         ],
         "xaxis": "x",
         "y": [
          0.21000000000000008
         ],
         "yaxis": "y"
        },
        {
         "hovertemplate": "<b>%{hovertext}</b><br><br>kicker_player_name=S.Shrader<br>Attempts=%{x}<br>Field Goal Over Expected (FG OE)=%{y}<extra></extra>",
         "hovertext": [
          "S.Shrader"
         ],
         "legendgroup": "S.Shrader",
         "marker": {
          "color": "#FF97FF",
          "symbol": "circle"
         },
         "mode": "markers",
         "name": "S.Shrader",
         "orientation": "v",
         "showlegend": true,
         "type": "scatter",
         "x": [
          5
         ],
         "xaxis": "x",
         "y": [
          0.18000000000000005
         ],
         "yaxis": "y"
        },
        {
         "hovertemplate": "<b>%{hovertext}</b><br><br>kicker_player_name=J.Elliott<br>Attempts=%{x}<br>Field Goal Over Expected (FG OE)=%{y}<extra></extra>",
         "hovertext": [
          "J.Elliott"
         ],
         "legendgroup": "J.Elliott",
         "marker": {
          "color": "#FECB52",
          "symbol": "circle"
         },
         "mode": "markers",
         "name": "J.Elliott",
         "orientation": "v",
         "showlegend": true,
         "type": "scatter",
         "x": [
          57
         ],
         "xaxis": "x",
         "y": [
          0.1500000000000003
         ],
         "yaxis": "y"
        },
        {
         "hovertemplate": "<b>%{hovertext}</b><br><br>kicker_player_name=M.Badgley<br>Attempts=%{x}<br>Field Goal Over Expected (FG OE)=%{y}<extra></extra>",
         "hovertext": [
          "M.Badgley"
         ],
         "legendgroup": "M.Badgley",
         "marker": {
          "color": "#636efa",
          "symbol": "circle"
         },
         "mode": "markers",
         "name": "M.Badgley",
         "orientation": "v",
         "showlegend": true,
         "type": "scatter",
         "x": [
          7
         ],
         "xaxis": "x",
         "y": [
          0.1200000000000001
         ],
         "yaxis": "y"
        },
        {
         "hovertemplate": "<b>%{hovertext}</b><br><br>kicker_player_name=R.Bullock<br>Attempts=%{x}<br>Field Goal Over Expected (FG OE)=%{y}<extra></extra>",
         "hovertext": [
          "R.Bullock"
         ],
         "legendgroup": "R.Bullock",
         "marker": {
          "color": "#EF553B",
          "symbol": "circle"
         },
         "mode": "markers",
         "name": "R.Bullock",
         "orientation": "v",
         "showlegend": true,
         "type": "scatter",
         "x": [
          6
         ],
         "xaxis": "x",
         "y": [
          0.07000000000000006
         ],
         "yaxis": "y"
        },
        {
         "hovertemplate": "<b>%{hovertext}</b><br><br>kicker_player_name=J.Gillan<br>Attempts=%{x}<br>Field Goal Over Expected (FG OE)=%{y}<extra></extra>",
         "hovertext": [
          "J.Gillan"
         ],
         "legendgroup": "J.Gillan",
         "marker": {
          "color": "#00cc96",
          "symbol": "circle"
         },
         "mode": "markers",
         "name": "J.Gillan",
         "orientation": "v",
         "showlegend": true,
         "type": "scatter",
         "x": [
          1
         ],
         "xaxis": "x",
         "y": [
          0.020000000000000018
         ],
         "yaxis": "y"
        },
        {
         "hovertemplate": "<b>%{hovertext}</b><br><br>kicker_player_name=A.Seibert<br>Attempts=%{x}<br>Field Goal Over Expected (FG OE)=%{y}<extra></extra>",
         "hovertext": [
          "A.Seibert"
         ],
         "legendgroup": "A.Seibert",
         "marker": {
          "color": "#ab63fa",
          "symbol": "circle"
         },
         "mode": "markers",
         "name": "A.Seibert",
         "orientation": "v",
         "showlegend": true,
         "type": "scatter",
         "x": [
          31
         ],
         "xaxis": "x",
         "y": [
          0.010000000000000231
         ],
         "yaxis": "y"
        },
        {
         "hovertemplate": "<b>%{hovertext}</b><br><br>kicker_player_name=D.Ogunbowale<br>Attempts=%{x}<br>Field Goal Over Expected (FG OE)=%{y}<extra></extra>",
         "hovertext": [
          "D.Ogunbowale"
         ],
         "legendgroup": "D.Ogunbowale",
         "marker": {
          "color": "#FFA15A",
          "symbol": "circle"
         },
         "mode": "markers",
         "name": "D.Ogunbowale",
         "orientation": "v",
         "showlegend": true,
         "type": "scatter",
         "x": [
          1
         ],
         "xaxis": "x",
         "y": [
          0.010000000000000009
         ],
         "yaxis": "y"
        },
        {
         "hovertemplate": "<b>%{hovertext}</b><br><br>kicker_player_name=G.Zuerlein<br>Attempts=%{x}<br>Field Goal Over Expected (FG OE)=%{y}<extra></extra>",
         "hovertext": [
          "G.Zuerlein"
         ],
         "legendgroup": "G.Zuerlein",
         "marker": {
          "color": "#19d3f3",
          "symbol": "circle"
         },
         "mode": "markers",
         "name": "G.Zuerlein",
         "orientation": "v",
         "showlegend": true,
         "type": "scatter",
         "x": [
          53
         ],
         "xaxis": "x",
         "y": [
          5.551115123125783e-16
         ],
         "yaxis": "y"
        },
        {
         "hovertemplate": "<b>%{hovertext}</b><br><br>kicker_player_name=M.Wishnowsky<br>Attempts=%{x}<br>Field Goal Over Expected (FG OE)=%{y}<extra></extra>",
         "hovertext": [
          "M.Wishnowsky"
         ],
         "legendgroup": "M.Wishnowsky",
         "marker": {
          "color": "#FF6692",
          "symbol": "circle"
         },
         "mode": "markers",
         "name": "M.Wishnowsky",
         "orientation": "v",
         "showlegend": true,
         "type": "scatter",
         "x": [
          1
         ],
         "xaxis": "x",
         "y": [
          0
         ],
         "yaxis": "y"
        },
        {
         "hovertemplate": "<b>%{hovertext}</b><br><br>kicker_player_name=J.McAtamney<br>Attempts=%{x}<br>Field Goal Over Expected (FG OE)=%{y}<extra></extra>",
         "hovertext": [
          "J.McAtamney"
         ],
         "legendgroup": "J.McAtamney",
         "marker": {
          "color": "#B6E880",
          "symbol": "circle"
         },
         "mode": "markers",
         "name": "J.McAtamney",
         "orientation": "v",
         "showlegend": true,
         "type": "scatter",
         "x": [
          1
         ],
         "xaxis": "x",
         "y": [
          0
         ],
         "yaxis": "y"
        },
        {
         "hovertemplate": "<b>%{hovertext}</b><br><br>kicker_player_name=Z.Gonzalez<br>Attempts=%{x}<br>Field Goal Over Expected (FG OE)=%{y}<extra></extra>",
         "hovertext": [
          "Z.Gonzalez"
         ],
         "legendgroup": "Z.Gonzalez",
         "marker": {
          "color": "#FF97FF",
          "symbol": "circle"
         },
         "mode": "markers",
         "name": "Z.Gonzalez",
         "orientation": "v",
         "showlegend": true,
         "type": "scatter",
         "x": [
          5
         ],
         "xaxis": "x",
         "y": [
          -0.030000000000000027
         ],
         "yaxis": "y"
        },
        {
         "hovertemplate": "<b>%{hovertext}</b><br><br>kicker_player_name=R.Patterson<br>Attempts=%{x}<br>Field Goal Over Expected (FG OE)=%{y}<extra></extra>",
         "hovertext": [
          "R.Patterson"
         ],
         "legendgroup": "R.Patterson",
         "marker": {
          "color": "#FECB52",
          "symbol": "circle"
         },
         "mode": "markers",
         "name": "R.Patterson",
         "orientation": "v",
         "showlegend": true,
         "type": "scatter",
         "x": [
          18
         ],
         "xaxis": "x",
         "y": [
          -0.04999999999999993
         ],
         "yaxis": "y"
        },
        {
         "hovertemplate": "<b>%{hovertext}</b><br><br>kicker_player_name=D.Hopkins<br>Attempts=%{x}<br>Field Goal Over Expected (FG OE)=%{y}<extra></extra>",
         "hovertext": [
          "D.Hopkins"
         ],
         "legendgroup": "D.Hopkins",
         "marker": {
          "color": "#636efa",
          "symbol": "circle"
         },
         "mode": "markers",
         "name": "D.Hopkins",
         "orientation": "v",
         "showlegend": true,
         "type": "scatter",
         "x": [
          61
         ],
         "xaxis": "x",
         "y": [
          -0.06999999999999967
         ],
         "yaxis": "y"
        },
        {
         "hovertemplate": "<b>%{hovertext}</b><br><br>kicker_player_name=A.Carlson<br>Attempts=%{x}<br>Field Goal Over Expected (FG OE)=%{y}<extra></extra>",
         "hovertext": [
          "A.Carlson"
         ],
         "legendgroup": "A.Carlson",
         "marker": {
          "color": "#EF553B",
          "symbol": "circle"
         },
         "mode": "markers",
         "name": "A.Carlson",
         "orientation": "v",
         "showlegend": true,
         "type": "scatter",
         "x": [
          47
         ],
         "xaxis": "x",
         "y": [
          -0.1399999999999995
         ],
         "yaxis": "y"
        },
        {
         "hovertemplate": "<b>%{hovertext}</b><br><br>kicker_player_name=B.McManus<br>Attempts=%{x}<br>Field Goal Over Expected (FG OE)=%{y}<extra></extra>",
         "hovertext": [
          "B.McManus"
         ],
         "legendgroup": "B.McManus",
         "marker": {
          "color": "#00cc96",
          "symbol": "circle"
         },
         "mode": "markers",
         "name": "B.McManus",
         "orientation": "v",
         "showlegend": true,
         "type": "scatter",
         "x": [
          49
         ],
         "xaxis": "x",
         "y": [
          -0.15999999999999975
         ],
         "yaxis": "y"
        },
        {
         "hovertemplate": "<b>%{hovertext}</b><br><br>kicker_player_name=E.McPherson<br>Attempts=%{x}<br>Field Goal Over Expected (FG OE)=%{y}<extra></extra>",
         "hovertext": [
          "E.McPherson"
         ],
         "legendgroup": "E.McPherson",
         "marker": {
          "color": "#ab63fa",
          "symbol": "circle"
         },
         "mode": "markers",
         "name": "E.McPherson",
         "orientation": "v",
         "showlegend": true,
         "type": "scatter",
         "x": [
          53
         ],
         "xaxis": "x",
         "y": [
          -0.18999999999999953
         ],
         "yaxis": "y"
        },
        {
         "hovertemplate": "<b>%{hovertext}</b><br><br>kicker_player_name=M.Crosby<br>Attempts=%{x}<br>Field Goal Over Expected (FG OE)=%{y}<extra></extra>",
         "hovertext": [
          "M.Crosby"
         ],
         "legendgroup": "M.Crosby",
         "marker": {
          "color": "#FFA15A",
          "symbol": "circle"
         },
         "mode": "markers",
         "name": "M.Crosby",
         "orientation": "v",
         "showlegend": true,
         "type": "scatter",
         "x": [
          7
         ],
         "xaxis": "x",
         "y": [
          -0.21999999999999997
         ],
         "yaxis": "y"
        },
        {
         "hovertemplate": "<b>%{hovertext}</b><br><br>kicker_player_name=C.York<br>Attempts=%{x}<br>Field Goal Over Expected (FG OE)=%{y}<extra></extra>",
         "hovertext": [
          "C.York"
         ],
         "legendgroup": "C.York",
         "marker": {
          "color": "#19d3f3",
          "symbol": "circle"
         },
         "mode": "markers",
         "name": "C.York",
         "orientation": "v",
         "showlegend": true,
         "type": "scatter",
         "x": [
          4
         ],
         "xaxis": "x",
         "y": [
          -0.3
         ],
         "yaxis": "y"
        },
        {
         "hovertemplate": "<b>%{hovertext}</b><br><br>kicker_player_name=J.Slye<br>Attempts=%{x}<br>Field Goal Over Expected (FG OE)=%{y}<extra></extra>",
         "hovertext": [
          "J.Slye"
         ],
         "legendgroup": "J.Slye",
         "marker": {
          "color": "#FF6692",
          "symbol": "circle"
         },
         "mode": "markers",
         "name": "J.Slye",
         "orientation": "v",
         "showlegend": true,
         "type": "scatter",
         "x": [
          52
         ],
         "xaxis": "x",
         "y": [
          -0.3299999999999994
         ],
         "yaxis": "y"
        },
        {
         "hovertemplate": "<b>%{hovertext}</b><br><br>kicker_player_name=B.Grupe<br>Attempts=%{x}<br>Field Goal Over Expected (FG OE)=%{y}<extra></extra>",
         "hovertext": [
          "B.Grupe"
         ],
         "legendgroup": "B.Grupe",
         "marker": {
          "color": "#B6E880",
          "symbol": "circle"
         },
         "mode": "markers",
         "name": "B.Grupe",
         "orientation": "v",
         "showlegend": true,
         "type": "scatter",
         "x": [
          61
         ],
         "xaxis": "x",
         "y": [
          -0.4499999999999993
         ],
         "yaxis": "y"
        },
        {
         "hovertemplate": "<b>%{hovertext}</b><br><br>kicker_player_name=J.Tucker<br>Attempts=%{x}<br>Field Goal Over Expected (FG OE)=%{y}<extra></extra>",
         "hovertext": [
          "J.Tucker"
         ],
         "legendgroup": "J.Tucker",
         "marker": {
          "color": "#FF97FF",
          "symbol": "circle"
         },
         "mode": "markers",
         "name": "J.Tucker",
         "orientation": "v",
         "showlegend": true,
         "type": "scatter",
         "x": [
          67
         ],
         "xaxis": "x",
         "y": [
          -0.5199999999999994
         ],
         "yaxis": "y"
        },
        {
         "hovertemplate": "<b>%{hovertext}</b><br><br>kicker_player_name=M.Gay<br>Attempts=%{x}<br>Field Goal Over Expected (FG OE)=%{y}<extra></extra>",
         "hovertext": [
          "M.Gay"
         ],
         "legendgroup": "M.Gay",
         "marker": {
          "color": "#FECB52",
          "symbol": "circle"
         },
         "mode": "markers",
         "name": "M.Gay",
         "orientation": "v",
         "showlegend": true,
         "type": "scatter",
         "x": [
          66
         ],
         "xaxis": "x",
         "y": [
          -0.6099999999999995
         ],
         "yaxis": "y"
        },
        {
         "hovertemplate": "<b>%{hovertext}</b><br><br>kicker_player_name=G.Joseph<br>Attempts=%{x}<br>Field Goal Over Expected (FG OE)=%{y}<extra></extra>",
         "hovertext": [
          "G.Joseph"
         ],
         "legendgroup": "G.Joseph",
         "marker": {
          "color": "#636efa",
          "symbol": "circle"
         },
         "mode": "markers",
         "name": "G.Joseph",
         "orientation": "v",
         "showlegend": true,
         "type": "scatter",
         "x": [
          46
         ],
         "xaxis": "x",
         "y": [
          -0.6399999999999999
         ],
         "yaxis": "y"
        },
        {
         "hovertemplate": "<b>%{hovertext}</b><br><br>kicker_player_name=Y.Koo<br>Attempts=%{x}<br>Field Goal Over Expected (FG OE)=%{y}<extra></extra>",
         "hovertext": [
          "Y.Koo"
         ],
         "legendgroup": "Y.Koo",
         "marker": {
          "color": "#EF553B",
          "symbol": "circle"
         },
         "mode": "markers",
         "name": "Y.Koo",
         "orientation": "v",
         "showlegend": true,
         "type": "scatter",
         "x": [
          68
         ],
         "xaxis": "x",
         "y": [
          -0.6599999999999998
         ],
         "yaxis": "y"
        },
        {
         "hovertemplate": "<b>%{hovertext}</b><br><br>kicker_player_name=D.Carlson<br>Attempts=%{x}<br>Field Goal Over Expected (FG OE)=%{y}<extra></extra>",
         "hovertext": [
          "D.Carlson"
         ],
         "legendgroup": "D.Carlson",
         "marker": {
          "color": "#00cc96",
          "symbol": "circle"
         },
         "mode": "markers",
         "name": "D.Carlson",
         "orientation": "v",
         "showlegend": true,
         "type": "scatter",
         "x": [
          60
         ],
         "xaxis": "x",
         "y": [
          -0.6899999999999996
         ],
         "yaxis": "y"
        },
        {
         "hovertemplate": "<b>%{hovertext}</b><br><br>kicker_player_name=M.Ammendola<br>Attempts=%{x}<br>Field Goal Over Expected (FG OE)=%{y}<extra></extra>",
         "hovertext": [
          "M.Ammendola"
         ],
         "legendgroup": "M.Ammendola",
         "marker": {
          "color": "#ab63fa",
          "symbol": "circle"
         },
         "mode": "markers",
         "name": "M.Ammendola",
         "orientation": "v",
         "showlegend": true,
         "type": "scatter",
         "x": [
          9
         ],
         "xaxis": "x",
         "y": [
          -0.72
         ],
         "yaxis": "y"
        },
        {
         "hovertemplate": "<b>%{hovertext}</b><br><br>kicker_player_name=T.Bass<br>Attempts=%{x}<br>Field Goal Over Expected (FG OE)=%{y}<extra></extra>",
         "hovertext": [
          "T.Bass"
         ],
         "legendgroup": "T.Bass",
         "marker": {
          "color": "#FFA15A",
          "symbol": "circle"
         },
         "mode": "markers",
         "name": "T.Bass",
         "orientation": "v",
         "showlegend": true,
         "type": "scatter",
         "x": [
          57
         ],
         "xaxis": "x",
         "y": [
          -0.7299999999999999
         ],
         "yaxis": "y"
        },
        {
         "hovertemplate": "<b>%{hovertext}</b><br><br>kicker_player_name=B.Narveson<br>Attempts=%{x}<br>Field Goal Over Expected (FG OE)=%{y}<extra></extra>",
         "hovertext": [
          "B.Narveson"
         ],
         "legendgroup": "B.Narveson",
         "marker": {
          "color": "#19d3f3",
          "symbol": "circle"
         },
         "mode": "markers",
         "name": "B.Narveson",
         "orientation": "v",
         "showlegend": true,
         "type": "scatter",
         "x": [
          17
         ],
         "xaxis": "x",
         "y": [
          -0.82
         ],
         "yaxis": "y"
        },
        {
         "hovertemplate": "<b>%{hovertext}</b><br><br>kicker_player_name=B.Maher<br>Attempts=%{x}<br>Field Goal Over Expected (FG OE)=%{y}<extra></extra>",
         "hovertext": [
          "B.Maher"
         ],
         "legendgroup": "B.Maher",
         "marker": {
          "color": "#FF6692",
          "symbol": "circle"
         },
         "mode": "markers",
         "name": "B.Maher",
         "orientation": "v",
         "showlegend": true,
         "type": "scatter",
         "x": [
          26
         ],
         "xaxis": "x",
         "y": [
          -0.8799999999999997
         ],
         "yaxis": "y"
        },
        {
         "hovertemplate": "<b>%{hovertext}</b><br><br>kicker_player_name=L.Havrisik<br>Attempts=%{x}<br>Field Goal Over Expected (FG OE)=%{y}<extra></extra>",
         "hovertext": [
          "L.Havrisik"
         ],
         "legendgroup": "L.Havrisik",
         "marker": {
          "color": "#B6E880",
          "symbol": "circle"
         },
         "mode": "markers",
         "name": "L.Havrisik",
         "orientation": "v",
         "showlegend": true,
         "type": "scatter",
         "x": [
          20
         ],
         "xaxis": "x",
         "y": [
          -0.95
         ],
         "yaxis": "y"
        },
        {
         "hovertemplate": "<b>%{hovertext}</b><br><br>kicker_player_name=J.Karty<br>Attempts=%{x}<br>Field Goal Over Expected (FG OE)=%{y}<extra></extra>",
         "hovertext": [
          "J.Karty"
         ],
         "legendgroup": "J.Karty",
         "marker": {
          "color": "#FF97FF",
          "symbol": "circle"
         },
         "mode": "markers",
         "name": "J.Karty",
         "orientation": "v",
         "showlegend": true,
         "type": "scatter",
         "x": [
          22
         ],
         "xaxis": "x",
         "y": [
          -0.96
         ],
         "yaxis": "y"
        },
        {
         "hovertemplate": "<b>%{hovertext}</b><br><br>kicker_player_name=G.Gano<br>Attempts=%{x}<br>Field Goal Over Expected (FG OE)=%{y}<extra></extra>",
         "hovertext": [
          "G.Gano"
         ],
         "legendgroup": "G.Gano",
         "marker": {
          "color": "#FECB52",
          "symbol": "circle"
         },
         "mode": "markers",
         "name": "G.Gano",
         "orientation": "v",
         "showlegend": true,
         "type": "scatter",
         "x": [
          25
         ],
         "xaxis": "x",
         "y": [
          -1.09
         ],
         "yaxis": "y"
        },
        {
         "hovertemplate": "<b>%{hovertext}</b><br><br>kicker_player_name=J.Moody<br>Attempts=%{x}<br>Field Goal Over Expected (FG OE)=%{y}<extra></extra>",
         "hovertext": [
          "J.Moody"
         ],
         "legendgroup": "J.Moody",
         "marker": {
          "color": "#636efa",
          "symbol": "circle"
         },
         "mode": "markers",
         "name": "J.Moody",
         "orientation": "v",
         "showlegend": true,
         "type": "scatter",
         "x": [
          59
         ],
         "xaxis": "x",
         "y": [
          -1.1699999999999997
         ],
         "yaxis": "y"
        },
        {
         "hovertemplate": "<b>%{hovertext}</b><br><br>kicker_player_name=C.Ryland<br>Attempts=%{x}<br>Field Goal Over Expected (FG OE)=%{y}<extra></extra>",
         "hovertext": [
          "C.Ryland"
         ],
         "legendgroup": "C.Ryland",
         "marker": {
          "color": "#EF553B",
          "symbol": "circle"
         },
         "mode": "markers",
         "name": "C.Ryland",
         "orientation": "v",
         "showlegend": true,
         "type": "scatter",
         "x": [
          48
         ],
         "xaxis": "x",
         "y": [
          -1.4699999999999995
         ],
         "yaxis": "y"
        }
       ],
       "layout": {
        "legend": {
         "title": {
          "text": "Kicker Player Name"
         },
         "tracegroupgap": 0
        },
        "template": {
         "data": {
          "bar": [
           {
            "error_x": {
             "color": "#2a3f5f"
            },
            "error_y": {
             "color": "#2a3f5f"
            },
            "marker": {
             "line": {
              "color": "white",
              "width": 0.5
             },
             "pattern": {
              "fillmode": "overlay",
              "size": 10,
              "solidity": 0.2
             }
            },
            "type": "bar"
           }
          ],
          "barpolar": [
           {
            "marker": {
             "line": {
              "color": "white",
              "width": 0.5
             },
             "pattern": {
              "fillmode": "overlay",
              "size": 10,
              "solidity": 0.2
             }
            },
            "type": "barpolar"
           }
          ],
          "carpet": [
           {
            "aaxis": {
             "endlinecolor": "#2a3f5f",
             "gridcolor": "#C8D4E3",
             "linecolor": "#C8D4E3",
             "minorgridcolor": "#C8D4E3",
             "startlinecolor": "#2a3f5f"
            },
            "baxis": {
             "endlinecolor": "#2a3f5f",
             "gridcolor": "#C8D4E3",
             "linecolor": "#C8D4E3",
             "minorgridcolor": "#C8D4E3",
             "startlinecolor": "#2a3f5f"
            },
            "type": "carpet"
           }
          ],
          "choropleth": [
           {
            "colorbar": {
             "outlinewidth": 0,
             "ticks": ""
            },
            "type": "choropleth"
           }
          ],
          "contour": [
           {
            "colorbar": {
             "outlinewidth": 0,
             "ticks": ""
            },
            "colorscale": [
             [
              0,
              "#0d0887"
             ],
             [
              0.1111111111111111,
              "#46039f"
             ],
             [
              0.2222222222222222,
              "#7201a8"
             ],
             [
              0.3333333333333333,
              "#9c179e"
             ],
             [
              0.4444444444444444,
              "#bd3786"
             ],
             [
              0.5555555555555556,
              "#d8576b"
             ],
             [
              0.6666666666666666,
              "#ed7953"
             ],
             [
              0.7777777777777778,
              "#fb9f3a"
             ],
             [
              0.8888888888888888,
              "#fdca26"
             ],
             [
              1,
              "#f0f921"
             ]
            ],
            "type": "contour"
           }
          ],
          "contourcarpet": [
           {
            "colorbar": {
             "outlinewidth": 0,
             "ticks": ""
            },
            "type": "contourcarpet"
           }
          ],
          "heatmap": [
           {
            "colorbar": {
             "outlinewidth": 0,
             "ticks": ""
            },
            "colorscale": [
             [
              0,
              "#0d0887"
             ],
             [
              0.1111111111111111,
              "#46039f"
             ],
             [
              0.2222222222222222,
              "#7201a8"
             ],
             [
              0.3333333333333333,
              "#9c179e"
             ],
             [
              0.4444444444444444,
              "#bd3786"
             ],
             [
              0.5555555555555556,
              "#d8576b"
             ],
             [
              0.6666666666666666,
              "#ed7953"
             ],
             [
              0.7777777777777778,
              "#fb9f3a"
             ],
             [
              0.8888888888888888,
              "#fdca26"
             ],
             [
              1,
              "#f0f921"
             ]
            ],
            "type": "heatmap"
           }
          ],
          "heatmapgl": [
           {
            "colorbar": {
             "outlinewidth": 0,
             "ticks": ""
            },
            "colorscale": [
             [
              0,
              "#0d0887"
             ],
             [
              0.1111111111111111,
              "#46039f"
             ],
             [
              0.2222222222222222,
              "#7201a8"
             ],
             [
              0.3333333333333333,
              "#9c179e"
             ],
             [
              0.4444444444444444,
              "#bd3786"
             ],
             [
              0.5555555555555556,
              "#d8576b"
             ],
             [
              0.6666666666666666,
              "#ed7953"
             ],
             [
              0.7777777777777778,
              "#fb9f3a"
             ],
             [
              0.8888888888888888,
              "#fdca26"
             ],
             [
              1,
              "#f0f921"
             ]
            ],
            "type": "heatmapgl"
           }
          ],
          "histogram": [
           {
            "marker": {
             "pattern": {
              "fillmode": "overlay",
              "size": 10,
              "solidity": 0.2
             }
            },
            "type": "histogram"
           }
          ],
          "histogram2d": [
           {
            "colorbar": {
             "outlinewidth": 0,
             "ticks": ""
            },
            "colorscale": [
             [
              0,
              "#0d0887"
             ],
             [
              0.1111111111111111,
              "#46039f"
             ],
             [
              0.2222222222222222,
              "#7201a8"
             ],
             [
              0.3333333333333333,
              "#9c179e"
             ],
             [
              0.4444444444444444,
              "#bd3786"
             ],
             [
              0.5555555555555556,
              "#d8576b"
             ],
             [
              0.6666666666666666,
              "#ed7953"
             ],
             [
              0.7777777777777778,
              "#fb9f3a"
             ],
             [
              0.8888888888888888,
              "#fdca26"
             ],
             [
              1,
              "#f0f921"
             ]
            ],
            "type": "histogram2d"
           }
          ],
          "histogram2dcontour": [
           {
            "colorbar": {
             "outlinewidth": 0,
             "ticks": ""
            },
            "colorscale": [
             [
              0,
              "#0d0887"
             ],
             [
              0.1111111111111111,
              "#46039f"
             ],
             [
              0.2222222222222222,
              "#7201a8"
             ],
             [
              0.3333333333333333,
              "#9c179e"
             ],
             [
              0.4444444444444444,
              "#bd3786"
             ],
             [
              0.5555555555555556,
              "#d8576b"
             ],
             [
              0.6666666666666666,
              "#ed7953"
             ],
             [
              0.7777777777777778,
              "#fb9f3a"
             ],
             [
              0.8888888888888888,
              "#fdca26"
             ],
             [
              1,
              "#f0f921"
             ]
            ],
            "type": "histogram2dcontour"
           }
          ],
          "mesh3d": [
           {
            "colorbar": {
             "outlinewidth": 0,
             "ticks": ""
            },
            "type": "mesh3d"
           }
          ],
          "parcoords": [
           {
            "line": {
             "colorbar": {
              "outlinewidth": 0,
              "ticks": ""
             }
            },
            "type": "parcoords"
           }
          ],
          "pie": [
           {
            "automargin": true,
            "type": "pie"
           }
          ],
          "scatter": [
           {
            "fillpattern": {
             "fillmode": "overlay",
             "size": 10,
             "solidity": 0.2
            },
            "type": "scatter"
           }
          ],
          "scatter3d": [
           {
            "line": {
             "colorbar": {
              "outlinewidth": 0,
              "ticks": ""
             }
            },
            "marker": {
             "colorbar": {
              "outlinewidth": 0,
              "ticks": ""
             }
            },
            "type": "scatter3d"
           }
          ],
          "scattercarpet": [
           {
            "marker": {
             "colorbar": {
              "outlinewidth": 0,
              "ticks": ""
             }
            },
            "type": "scattercarpet"
           }
          ],
          "scattergeo": [
           {
            "marker": {
             "colorbar": {
              "outlinewidth": 0,
              "ticks": ""
             }
            },
            "type": "scattergeo"
           }
          ],
          "scattergl": [
           {
            "marker": {
             "colorbar": {
              "outlinewidth": 0,
              "ticks": ""
             }
            },
            "type": "scattergl"
           }
          ],
          "scattermapbox": [
           {
            "marker": {
             "colorbar": {
              "outlinewidth": 0,
              "ticks": ""
             }
            },
            "type": "scattermapbox"
           }
          ],
          "scatterpolar": [
           {
            "marker": {
             "colorbar": {
              "outlinewidth": 0,
              "ticks": ""
             }
            },
            "type": "scatterpolar"
           }
          ],
          "scatterpolargl": [
           {
            "marker": {
             "colorbar": {
              "outlinewidth": 0,
              "ticks": ""
             }
            },
            "type": "scatterpolargl"
           }
          ],
          "scatterternary": [
           {
            "marker": {
             "colorbar": {
              "outlinewidth": 0,
              "ticks": ""
             }
            },
            "type": "scatterternary"
           }
          ],
          "surface": [
           {
            "colorbar": {
             "outlinewidth": 0,
             "ticks": ""
            },
            "colorscale": [
             [
              0,
              "#0d0887"
             ],
             [
              0.1111111111111111,
              "#46039f"
             ],
             [
              0.2222222222222222,
              "#7201a8"
             ],
             [
              0.3333333333333333,
              "#9c179e"
             ],
             [
              0.4444444444444444,
              "#bd3786"
             ],
             [
              0.5555555555555556,
              "#d8576b"
             ],
             [
              0.6666666666666666,
              "#ed7953"
             ],
             [
              0.7777777777777778,
              "#fb9f3a"
             ],
             [
              0.8888888888888888,
              "#fdca26"
             ],
             [
              1,
              "#f0f921"
             ]
            ],
            "type": "surface"
           }
          ],
          "table": [
           {
            "cells": {
             "fill": {
              "color": "#EBF0F8"
             },
             "line": {
              "color": "white"
             }
            },
            "header": {
             "fill": {
              "color": "#C8D4E3"
             },
             "line": {
              "color": "white"
             }
            },
            "type": "table"
           }
          ]
         },
         "layout": {
          "annotationdefaults": {
           "arrowcolor": "#2a3f5f",
           "arrowhead": 0,
           "arrowwidth": 1
          },
          "autotypenumbers": "strict",
          "coloraxis": {
           "colorbar": {
            "outlinewidth": 0,
            "ticks": ""
           }
          },
          "colorscale": {
           "diverging": [
            [
             0,
             "#8e0152"
            ],
            [
             0.1,
             "#c51b7d"
            ],
            [
             0.2,
             "#de77ae"
            ],
            [
             0.3,
             "#f1b6da"
            ],
            [
             0.4,
             "#fde0ef"
            ],
            [
             0.5,
             "#f7f7f7"
            ],
            [
             0.6,
             "#e6f5d0"
            ],
            [
             0.7,
             "#b8e186"
            ],
            [
             0.8,
             "#7fbc41"
            ],
            [
             0.9,
             "#4d9221"
            ],
            [
             1,
             "#276419"
            ]
           ],
           "sequential": [
            [
             0,
             "#0d0887"
            ],
            [
             0.1111111111111111,
             "#46039f"
            ],
            [
             0.2222222222222222,
             "#7201a8"
            ],
            [
             0.3333333333333333,
             "#9c179e"
            ],
            [
             0.4444444444444444,
             "#bd3786"
            ],
            [
             0.5555555555555556,
             "#d8576b"
            ],
            [
             0.6666666666666666,
             "#ed7953"
            ],
            [
             0.7777777777777778,
             "#fb9f3a"
            ],
            [
             0.8888888888888888,
             "#fdca26"
            ],
            [
             1,
             "#f0f921"
            ]
           ],
           "sequentialminus": [
            [
             0,
             "#0d0887"
            ],
            [
             0.1111111111111111,
             "#46039f"
            ],
            [
             0.2222222222222222,
             "#7201a8"
            ],
            [
             0.3333333333333333,
             "#9c179e"
            ],
            [
             0.4444444444444444,
             "#bd3786"
            ],
            [
             0.5555555555555556,
             "#d8576b"
            ],
            [
             0.6666666666666666,
             "#ed7953"
            ],
            [
             0.7777777777777778,
             "#fb9f3a"
            ],
            [
             0.8888888888888888,
             "#fdca26"
            ],
            [
             1,
             "#f0f921"
            ]
           ]
          },
          "colorway": [
           "#636efa",
           "#EF553B",
           "#00cc96",
           "#ab63fa",
           "#FFA15A",
           "#19d3f3",
           "#FF6692",
           "#B6E880",
           "#FF97FF",
           "#FECB52"
          ],
          "font": {
           "color": "#2a3f5f"
          },
          "geo": {
           "bgcolor": "white",
           "lakecolor": "white",
           "landcolor": "white",
           "showlakes": true,
           "showland": true,
           "subunitcolor": "#C8D4E3"
          },
          "hoverlabel": {
           "align": "left"
          },
          "hovermode": "closest",
          "mapbox": {
           "style": "light"
          },
          "paper_bgcolor": "white",
          "plot_bgcolor": "white",
          "polar": {
           "angularaxis": {
            "gridcolor": "#EBF0F8",
            "linecolor": "#EBF0F8",
            "ticks": ""
           },
           "bgcolor": "white",
           "radialaxis": {
            "gridcolor": "#EBF0F8",
            "linecolor": "#EBF0F8",
            "ticks": ""
           }
          },
          "scene": {
           "xaxis": {
            "backgroundcolor": "white",
            "gridcolor": "#DFE8F3",
            "gridwidth": 2,
            "linecolor": "#EBF0F8",
            "showbackground": true,
            "ticks": "",
            "zerolinecolor": "#EBF0F8"
           },
           "yaxis": {
            "backgroundcolor": "white",
            "gridcolor": "#DFE8F3",
            "gridwidth": 2,
            "linecolor": "#EBF0F8",
            "showbackground": true,
            "ticks": "",
            "zerolinecolor": "#EBF0F8"
           },
           "zaxis": {
            "backgroundcolor": "white",
            "gridcolor": "#DFE8F3",
            "gridwidth": 2,
            "linecolor": "#EBF0F8",
            "showbackground": true,
            "ticks": "",
            "zerolinecolor": "#EBF0F8"
           }
          },
          "shapedefaults": {
           "line": {
            "color": "#2a3f5f"
           }
          },
          "ternary": {
           "aaxis": {
            "gridcolor": "#DFE8F3",
            "linecolor": "#A2B1C6",
            "ticks": ""
           },
           "baxis": {
            "gridcolor": "#DFE8F3",
            "linecolor": "#A2B1C6",
            "ticks": ""
           },
           "bgcolor": "white",
           "caxis": {
            "gridcolor": "#DFE8F3",
            "linecolor": "#A2B1C6",
            "ticks": ""
           }
          },
          "title": {
           "x": 0.05
          },
          "xaxis": {
           "automargin": true,
           "gridcolor": "#EBF0F8",
           "linecolor": "#EBF0F8",
           "ticks": "",
           "title": {
            "standoff": 15
           },
           "zerolinecolor": "#EBF0F8",
           "zerolinewidth": 2
          },
          "yaxis": {
           "automargin": true,
           "gridcolor": "#EBF0F8",
           "linecolor": "#EBF0F8",
           "ticks": "",
           "title": {
            "standoff": 15
           },
           "zerolinecolor": "#EBF0F8",
           "zerolinewidth": 2
          }
         }
        },
        "title": {
         "text": "Scatter Plot of Attempts vs Field Goal Over Expected (FG OE)",
         "x": 0.5,
         "xanchor": "center"
        },
        "xaxis": {
         "anchor": "y",
         "domain": [
          0,
          1
         ],
         "title": {
          "text": "Attempts"
         }
        },
        "yaxis": {
         "anchor": "x",
         "domain": [
          0,
          1
         ],
         "title": {
          "text": "Field Goal Over Expected (FG OE)"
         }
        }
       }
      }
     },
     "metadata": {},
     "output_type": "display_data"
    }
   ],
   "source": [
    "import plotly.express as px\n",
    "\n",
    "# Create interactive scatter plot\n",
    "fig = px.scatter(\n",
    "    leaderboard, \n",
    "    x='attempts', \n",
    "    y='kicks_oe_made', \n",
    "    color='kicker_player_name',\n",
    "    hover_name='kicker_player_name',\n",
    "    title='Scatter Plot of Attempts vs Field Goal Over Expected (FG OE)',\n",
    "    labels={\n",
    "        'attempts': 'Attempts',\n",
    "        'kicks_oe_made': 'Field Goal Over Expected (FG OE)'\n",
    "    },\n",
    "    size_max=15,\n",
    "    template='plotly_white'\n",
    ")\n",
    "\n",
    "# Update layout for better aesthetics\n",
    "fig.update_layout(\n",
    "    title={\n",
    "        'x':0.5,\n",
    "        'xanchor': 'center'\n",
    "    },\n",
    "    legend_title_text='Kicker Player Name'\n",
    ")\n",
    "\n",
    "fig.show()"
   ]
  },
  {
   "cell_type": "code",
   "execution_count": null,
   "metadata": {},
   "outputs": [],
   "source": []
  }
 ],
 "metadata": {
  "kernelspec": {
   "display_name": "Python 3 (ipykernel)",
   "language": "python",
   "name": "python3"
  },
  "language_info": {
   "codemirror_mode": {
    "name": "ipython",
    "version": 3
   },
   "file_extension": ".py",
   "mimetype": "text/x-python",
   "name": "python",
   "nbconvert_exporter": "python",
   "pygments_lexer": "ipython3",
   "version": "3.11.7"
  }
 },
 "nbformat": 4,
 "nbformat_minor": 4
}
